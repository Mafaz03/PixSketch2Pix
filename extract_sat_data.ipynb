{
 "cells": [
  {
   "cell_type": "code",
   "execution_count": 1,
   "metadata": {},
   "outputs": [],
   "source": [
    "import ssl\n",
    "ssl._create_default_https_context = ssl._create_unverified_context\n"
   ]
  },
  {
   "cell_type": "code",
   "execution_count": null,
   "metadata": {},
   "outputs": [
    {
     "data": {
      "text/plain": [
       "'65f2b211-b283-42d5-9ac6-d3ecf4be5a45'"
      ]
     },
     "execution_count": 2,
     "metadata": {},
     "output_type": "execute_result"
    }
   ],
   "source": [
    "from sentinelhub import SHConfig\n",
    "from dotenv import load_dotenv\n",
    "import os\n",
    "\n",
    "config = SHConfig(sh_client_id=os.environ.get(\"sh_client_id\"), sh_client_secret=os.environ.get(\"sh_client_secret\"))\n",
    "config.sh_client_id"
   ]
  },
  {
   "cell_type": "code",
   "execution_count": null,
   "metadata": {},
   "outputs": [],
   "source": [
    "def plot_image(\n",
    "    image: np.ndarray, factor: float = 1.0, clip_range: tuple[float, float] | None = None, **kwargs) -> None:\n",
    "    \"\"\"Utility function for plotting RGB images.\"\"\"\n",
    "    _, ax = plt.subplots(nrows=1, ncols=1, figsize=(15, 15))\n",
    "    if clip_range is not None:\n",
    "        ax.imshow(np.clip(image * factor, *clip_range), **kwargs)\n",
    "    else:\n",
    "        ax.imshow(image * factor, **kwargs)\n",
    "    ax.set_xticks([])\n",
    "    ax.set_yticks([])"
   ]
  },
  {
   "cell_type": "code",
   "execution_count": 15,
   "metadata": {},
   "outputs": [
    {
     "name": "stdout",
     "output_type": "stream",
     "text": [
      "Image shape at 0.8 m resolution: (1989, 1693) pixels\n"
     ]
    }
   ],
   "source": [
    "import datetime\n",
    "import os\n",
    "\n",
    "import matplotlib.pyplot as plt\n",
    "import numpy as np\n",
    "\n",
    "from sentinelhub import (\n",
    "    CRS,\n",
    "    BBox,\n",
    "    DataCollection,\n",
    "    DownloadRequest,\n",
    "    MimeType,\n",
    "    MosaickingOrder,\n",
    "    SentinelHubDownloadClient,\n",
    "    SentinelHubRequest,\n",
    "    bbox_to_dimensions,\n",
    ")\n",
    "\n",
    "\n",
    "cords = (80.085375,12.894645,80.1,12.906943)\n",
    "\n",
    "resolution = 0.8\n",
    "bbox = BBox(bbox=cords, crs=CRS.WGS84)\n",
    "size = bbox_to_dimensions(bbox, resolution=resolution)\n",
    "\n",
    "print(f\"Image shape at {resolution} m resolution: {size} pixels\")"
   ]
  },
  {
   "cell_type": "code",
   "execution_count": null,
   "metadata": {},
   "outputs": [],
   "source": [
    "from utils import evalscript_true_color, evalscript_ndvi, evalscript_ndwi"
   ]
  },
  {
   "cell_type": "code",
   "execution_count": 87,
   "metadata": {},
   "outputs": [
    {
     "data": {
      "text/html": [
       "\n",
       "            <style>\n",
       "                .geemap-dark {\n",
       "                    --jp-widgets-color: white;\n",
       "                    --jp-widgets-label-color: white;\n",
       "                    --jp-ui-font-color1: white;\n",
       "                    --jp-layout-color2: #454545;\n",
       "                    background-color: #383838;\n",
       "                }\n",
       "\n",
       "                .geemap-dark .jupyter-button {\n",
       "                    --jp-layout-color3: #383838;\n",
       "                }\n",
       "\n",
       "                .geemap-colab {\n",
       "                    background-color: var(--colab-primary-surface-color, white);\n",
       "                }\n",
       "\n",
       "                .geemap-colab .jupyter-button {\n",
       "                    --jp-layout-color3: var(--colab-primary-surface-color, white);\n",
       "                }\n",
       "            </style>\n",
       "            "
      ],
      "text/plain": [
       "<IPython.core.display.HTML object>"
      ]
     },
     "metadata": {},
     "output_type": "display_data"
    },
    {
     "data": {
      "text/plain": [
       "(1989, 1693)"
      ]
     },
     "execution_count": 87,
     "metadata": {},
     "output_type": "execute_result"
    }
   ],
   "source": [
    "size"
   ]
  },
  {
   "cell_type": "code",
   "execution_count": 104,
   "metadata": {},
   "outputs": [
    {
     "data": {
      "text/html": [
       "\n",
       "            <style>\n",
       "                .geemap-dark {\n",
       "                    --jp-widgets-color: white;\n",
       "                    --jp-widgets-label-color: white;\n",
       "                    --jp-ui-font-color1: white;\n",
       "                    --jp-layout-color2: #454545;\n",
       "                    background-color: #383838;\n",
       "                }\n",
       "\n",
       "                .geemap-dark .jupyter-button {\n",
       "                    --jp-layout-color3: #383838;\n",
       "                }\n",
       "\n",
       "                .geemap-colab {\n",
       "                    background-color: var(--colab-primary-surface-color, white);\n",
       "                }\n",
       "\n",
       "                .geemap-colab .jupyter-button {\n",
       "                    --jp-layout-color3: var(--colab-primary-surface-color, white);\n",
       "                }\n",
       "            </style>\n",
       "            "
      ],
      "text/plain": [
       "<IPython.core.display.HTML object>"
      ]
     },
     "metadata": {},
     "output_type": "display_data"
    }
   ],
   "source": [
    "import ee\n",
    "import geemap\n",
    "\n",
    "# Authenticate and initialize\n",
    "ee.Authenticate()\n",
    "ee.Initialize()\n",
    "\n",
    "def get_map(cords, start_date, end_date, evalscript_true_color, evalscript_ndvi, evalscript_ndwi, resolution=0.8):\n",
    "\n",
    "    bbox = BBox(bbox=cords, crs=CRS.WGS84)\n",
    "    size = bbox_to_dimensions(bbox, resolution=resolution)\n",
    "\n",
    "    request_true_color = SentinelHubRequest(\n",
    "        evalscript=evalscript_true_color,\n",
    "        input_data=[\n",
    "            SentinelHubRequest.input_data(\n",
    "                data_collection=DataCollection.SENTINEL2_L1C,\n",
    "                time_interval=(start_date, end_date),\n",
    "            )\n",
    "        ],\n",
    "        responses=[SentinelHubRequest.output_response(\"default\", MimeType.PNG)],\n",
    "        bbox=bbox,\n",
    "        size=size,\n",
    "        config=config,\n",
    "    )\n",
    "    rgb_response = request_true_color.get_data()\n",
    "    \n",
    "    request_ndvi = SentinelHubRequest(\n",
    "        evalscript=evalscript_ndvi,\n",
    "        input_data=[\n",
    "            SentinelHubRequest.input_data(\n",
    "                data_collection=DataCollection.SENTINEL2_L2A,\n",
    "                time_interval=(start_date, end_date),\n",
    "            )\n",
    "        ],\n",
    "        responses=[SentinelHubRequest.output_response(\"default\", MimeType.TIFF)],\n",
    "        bbox=bbox,\n",
    "        size=size,\n",
    "        config=config,\n",
    "    )\n",
    "    ndvi_response = request_ndvi.get_data()[0]\n",
    "\n",
    "    request_ndwi = SentinelHubRequest(\n",
    "        evalscript=evalscript_ndwi,\n",
    "        input_data=[\n",
    "            SentinelHubRequest.input_data(\n",
    "                data_collection=DataCollection.SENTINEL2_L2A,\n",
    "                time_interval=(start_date, end_date),\n",
    "            )\n",
    "        ],\n",
    "        responses=[SentinelHubRequest.output_response(\"default\", MimeType.TIFF)],\n",
    "        bbox=bbox,\n",
    "        size=size,\n",
    "        config=config,\n",
    "    )\n",
    "    ndwi_response = request_ndwi.get_data()[0]\n",
    "\n",
    "    # Load the SRTM DEM dataset\n",
    "    srtm = ee.Image(\"USGS/SRTMGL1_003\")\n",
    "\n",
    "    # Calculate slope using the `terrain` function\n",
    "    terrain = ee.Algorithms.Terrain(srtm)\n",
    "\n",
    "    # Extract elevation and slope\n",
    "    elevation = srtm.select('elevation')  # Elevation data\n",
    "    slope = terrain.select('slope') \n",
    "\n",
    "    srtm = ee.Image(\"USGS/SRTMGL1_003\")\n",
    "    terrain = ee.Algorithms.Terrain(srtm)\n",
    "    elevation = srtm.select('elevation')  # Elevation data\n",
    "    slope = terrain.select('slope') \n",
    "\n",
    "    roi = ee.Geometry.Rectangle(*cords) \n",
    "\n",
    "    Map = geemap.Map()\n",
    "    Map.centerObject(roi, 16)\n",
    "\n",
    "    # Add elevation and slope layers\n",
    "    Map.addLayer(elevation.clip(roi), {'min': 0, 'max': 3000, 'palette': ['black', 'white', 'gray']}, 'Elevation')\n",
    "    Map.addLayer(slope.clip(roi), {'min': 0, 'max': 60, 'palette': ['black', 'white', 'gray']}, 'Slope')\n",
    "\n",
    "    elevation_arr = geemap.ee_to_numpy(elevation.resample('bicubic'), region=roi)\n",
    "    slope_arr = geemap.ee_to_numpy(slope, region=roi)\n",
    "\n",
    "    return (rgb_response[0]*3.5/255).clip(0,1), ndvi_response*3.5/255, ndwi_response*3.5/255, elevation_arr, slope_arr\n",
    "\n"
   ]
  },
  {
   "cell_type": "code",
   "execution_count": 105,
   "metadata": {},
   "outputs": [
    {
     "data": {
      "text/html": [
       "\n",
       "            <style>\n",
       "                .geemap-dark {\n",
       "                    --jp-widgets-color: white;\n",
       "                    --jp-widgets-label-color: white;\n",
       "                    --jp-ui-font-color1: white;\n",
       "                    --jp-layout-color2: #454545;\n",
       "                    background-color: #383838;\n",
       "                }\n",
       "\n",
       "                .geemap-dark .jupyter-button {\n",
       "                    --jp-layout-color3: #383838;\n",
       "                }\n",
       "\n",
       "                .geemap-colab {\n",
       "                    background-color: var(--colab-primary-surface-color, white);\n",
       "                }\n",
       "\n",
       "                .geemap-colab .jupyter-button {\n",
       "                    --jp-layout-color3: var(--colab-primary-surface-color, white);\n",
       "                }\n",
       "            </style>\n",
       "            "
      ],
      "text/plain": [
       "<IPython.core.display.HTML object>"
      ]
     },
     "metadata": {},
     "output_type": "display_data"
    }
   ],
   "source": [
    "maps = get_map(cords, start_date=\"2020-06-12\", end_date=\"2021-06-13\", \n",
    "        evalscript_ndvi=evalscript_ndvi, \n",
    "        evalscript_true_color=evalscript_true_color, \n",
    "        evalscript_ndwi=evalscript_ndwi)"
   ]
  },
  {
   "cell_type": "code",
   "execution_count": 109,
   "metadata": {},
   "outputs": [
    {
     "data": {
      "text/html": [
       "\n",
       "            <style>\n",
       "                .geemap-dark {\n",
       "                    --jp-widgets-color: white;\n",
       "                    --jp-widgets-label-color: white;\n",
       "                    --jp-ui-font-color1: white;\n",
       "                    --jp-layout-color2: #454545;\n",
       "                    background-color: #383838;\n",
       "                }\n",
       "\n",
       "                .geemap-dark .jupyter-button {\n",
       "                    --jp-layout-color3: #383838;\n",
       "                }\n",
       "\n",
       "                .geemap-colab {\n",
       "                    background-color: var(--colab-primary-surface-color, white);\n",
       "                }\n",
       "\n",
       "                .geemap-colab .jupyter-button {\n",
       "                    --jp-layout-color3: var(--colab-primary-surface-color, white);\n",
       "                }\n",
       "            </style>\n",
       "            "
      ],
      "text/plain": [
       "<IPython.core.display.HTML object>"
      ]
     },
     "metadata": {},
     "output_type": "display_data"
    },
    {
     "data": {
      "text/plain": [
       "<matplotlib.image.AxesImage at 0x35b5fddd0>"
      ]
     },
     "execution_count": 109,
     "metadata": {},
     "output_type": "execute_result"
    },
    {
     "data": {
      "image/png": "[encoded data removed]",
      "text/plain": [
       "<Figure size 640x480 with 1 Axes>"
      ]
     },
     "metadata": {},
     "output_type": "display_data"
    }
   ],
   "source": [
    "plt.imshow(maps[4], cmap=\"gray\")"
   ]
  },
  {
   "cell_type": "code",
   "execution_count": null,
   "metadata": {},
   "outputs": [],
   "source": []
  }
 ],
 "metadata": {
  "kernelspec": {
   "display_name": "Python 3",
   "language": "python",
   "name": "python3"
  },
  "language_info": {
   "codemirror_mode": {
    "name": "ipython",
    "version": 3
   },
   "file_extension": ".py",
   "mimetype": "text/x-python",
   "name": "python",
   "nbconvert_exporter": "python",
   "pygments_lexer": "ipython3",
   "version": "3.11.5"
  }
 },
 "nbformat": 4,
 "nbformat_minor": 2
}
