{
 "cells": [
  {
   "cell_type": "code",
   "execution_count": null,
   "metadata": {},
   "outputs": [
    {
     "name": "stdout",
     "output_type": "stream",
     "text": [
      "torch.Size([5, 128, 100, 100])\n"
     ]
    },
    {
     "name": "stderr",
     "output_type": "stream",
     "text": [
      "/Library/Frameworks/Python.framework/Versions/3.11/lib/python3.11/site-packages/torchvision/io/image.py:13: UserWarning: Failed to load image Python extension: 'dlopen(/Library/Frameworks/Python.framework/Versions/3.11/lib/python3.11/site-packages/torchvision/image.so, 0x0006): Symbol not found: __ZN3c1017RegisterOperatorsD1Ev\n",
      "  Referenced from: <2BD1B165-EC09-3F68-BCE4-8FE4E70CA7E2> /Library/Frameworks/Python.framework/Versions/3.11/lib/python3.11/site-packages/torchvision/image.so\n",
      "  Expected in:     <9C467D80-5BAC-3156-B480-F0FF7E45DEF2> /Library/Frameworks/Python.framework/Versions/3.11/lib/python3.11/site-packages/torch/lib/libtorch_cpu.dylib'If you don't plan on using image functionality from `torchvision.io`, you can ignore this warning. Otherwise, there might be something wrong with your environment. Did you have `libjpeg` or `libpng` installed before building `torchvision` from source?\n",
      "  warn(\n",
      "/Library/Frameworks/Python.framework/Versions/3.11/lib/python3.11/site-packages/albumentations/check_version.py:49: UserWarning: Error fetching version info <urlopen error [SSL: CERTIFICATE_VERIFY_FAILED] certificate verify failed: unable to get local issuer certificate (_ssl.c:1006)>\n",
      "  data = fetch_version_info()\n",
      "/var/folders/3p/xlr6tgyx4t980qpxnnrs12kc0000gn/T/ipykernel_45574/2609745983.py:13: FutureWarning: You are using `torch.load` with `weights_only=False` (the current default value), which uses the default pickle module implicitly. It is possible to construct malicious pickle data which will execute arbitrary code during unpickling (See https://github.com/pytorch/pytorch/blob/main/SECURITY.md#untrusted-models for more details). In a future release, the default value for `weights_only` will be flipped to `True`. This limits the functions that could be executed during unpickling. Arbitrary objects will no longer be allowed to be loaded via this mode unless they are explicitly allowlisted by the user via `torch.serialization.add_safe_globals`. We recommend you start setting `weights_only=True` for any use case where you don't have full control of the loaded file. Please open an issue on GitHub for any issues related to this experimental feature.\n",
      "  checkpoint = torch.load(\"model/gen_LSM_v1.pth.tar\", map_location=torch.device(config.DEVICE))\n"
     ]
    }
   ],
   "source": [
    "from generator_model import Generator\n",
    "from torch import optim\n",
    "import torch\n",
    "import matplotlib.pyplot as plt\n",
    "from PIL import Image\n",
    "import numpy as np\n",
    "from torch.utils.data import DataLoader\n",
    "from dataset import Image_dataset\n",
    "import config\n",
    "from tqdm import tqdm\n",
    "from utils import to_grayscale\n",
    "\n",
    "gen = Generator(in_channels=1, inter_images=4, out_channels=1)\n",
    "checkpoint = torch.load(\"model/gen_LSM_v1.pth.tar\", map_location=torch.device(config.DEVICE))\n",
    "gen.load_state_dict(checkpoint['state_dict'])\n",
    "optimizer = optim.Adam(gen.parameters())\n",
    "optimizer.load_state_dict(checkpoint['optimizer'])"
   ]
  },
  {
   "cell_type": "code",
   "execution_count": null,
   "metadata": {},
   "outputs": [],
   "source": [
    "image = np.array(Image.open(\"image_dataset/landslide/Test/3114.jpg\"))\n",
    "\n",
    "def generated_lsm_mask(gen, image_seq, inter_images_num=4):\n",
    "    inter_image_dict = {}\n",
    "    input_image = image_seq[:, :config.IMAGE_SIZE, :]\n",
    "    for idx in range(inter_images_num):\n",
    "        start_idx = config.IMAGE_SIZE * (idx + 1)\n",
    "        end_idx = config.IMAGE_SIZE * (idx + 2)\n",
    "        inter_image_dict[idx] = image_seq[:, start_idx:end_idx, :]\n",
    "\n",
    "    target_image = image_seq[:, config.IMAGE_SIZE * (inter_images_num + 1):, :]\n",
    "\n",
    "    for idx, inter_image in enumerate(inter_image_dict.values()):\n",
    "        inter_image_dict[idx] = config.transform_only_input(image=inter_image)[\"image\"]\n",
    "\n",
    "    target_image = config.transform_only_mask_binarize(image=target_image)[\"image\"]\n",
    "    input_image = config.transform_only_input(image=input_image)[\"image\"]\n",
    "    input_image = to_grayscale(input_image)\n",
    "    inter_image_dict = {key: to_grayscale(value) for key, value in inter_image_dict.items()}\n",
    "    target_image = to_grayscale(target_image)\n",
    "\n",
    "    generated_output = gen(input_image.unsqueeze(0), z1=inter_image_dict[0].unsqueeze(0), \n",
    "                              z2=inter_image_dict[1].unsqueeze(0), \n",
    "                              z3=inter_image_dict[2].unsqueeze(0), \n",
    "                              z4=inter_image_dict[3].unsqueeze(0))\n",
    "    # return generated_output\n",
    "    return (generated_output[0].permute(1,2,0).detach().numpy() > 0.5) * 1., (target_image.permute(1,2,0).detach().numpy() > 0.5) * 1."
   ]
  },
  {
   "cell_type": "code",
   "execution_count": 26,
   "metadata": {},
   "outputs": [],
   "source": [
    "image = np.array(Image.open(\"image_dataset/landslide/Test/3535.jpg\"))\n",
    "\n",
    "generated = generated_lsm_mask(gen=gen, image_seq=image, inter_images_num=4)"
   ]
  },
  {
   "cell_type": "code",
   "execution_count": 27,
   "metadata": {},
   "outputs": [
    {
     "data": {
      "text/plain": [
       "<matplotlib.image.AxesImage at 0x36f61c410>"
      ]
     },
     "execution_count": 27,
     "metadata": {},
     "output_type": "execute_result"
    },
    {
     "data": {
      "image/png": "[encoded data removed]",
      "text/plain": [
       "<Figure size 640x480 with 1 Axes>"
      ]
     },
     "metadata": {},
     "output_type": "display_data"
    }
   ],
   "source": [
    "plt.imshow(generated[0], cmap=\"gray\")"
   ]
  },
  {
   "cell_type": "code",
   "execution_count": 1,
   "metadata": {},
   "outputs": [
    {
     "ename": "NameError",
     "evalue": "name 'plt' is not defined",
     "output_type": "error",
     "traceback": [
      "\u001b[0;31m---------------------------------------------------------------------------\u001b[0m",
      "\u001b[0;31mNameError\u001b[0m                                 Traceback (most recent call last)",
      "Cell \u001b[0;32mIn[1], line 1\u001b[0m\n\u001b[0;32m----> 1\u001b[0m \u001b[43mplt\u001b[49m\u001b[38;5;241m.\u001b[39mimshow(generated[\u001b[38;5;241m1\u001b[39m], cmap\u001b[38;5;241m=\u001b[39m\u001b[38;5;124m\"\u001b[39m\u001b[38;5;124mgray\u001b[39m\u001b[38;5;124m\"\u001b[39m)\n",
      "\u001b[0;31mNameError\u001b[0m: name 'plt' is not defined"
     ]
    }
   ],
   "source": [
    "plt.imshow(generated[1], cmap=\"gray\")"
   ]
  },
  {
   "cell_type": "code",
   "execution_count": null,
   "metadata": {},
   "outputs": [],
   "source": []
  },
  {
   "cell_type": "code",
   "execution_count": null,
   "metadata": {},
   "outputs": [],
   "source": []
  }
 ],
 "metadata": {
  "kernelspec": {
   "display_name": "Python 3",
   "language": "python",
   "name": "python3"
  },
  "language_info": {
   "codemirror_mode": {
    "name": "ipython",
    "version": 3
   },
   "file_extension": ".py",
   "mimetype": "text/x-python",
   "name": "python",
   "nbconvert_exporter": "python",
   "pygments_lexer": "ipython3",
   "version": "3.11.5"
  }
 },
 "nbformat": 4,
 "nbformat_minor": 2
}
